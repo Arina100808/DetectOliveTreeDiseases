{
 "nbformat": 4,
 "nbformat_minor": 0,
 "metadata": {
  "colab": {
   "provenance": [],
   "machine_shape": "hm",
   "gpuType": "L4"
  },
  "kernelspec": {
   "name": "python3",
   "display_name": "Python 3"
  },
  "language_info": {
   "name": "python"
  },
  "accelerator": "GPU"
 },
 "cells": [
  {
   "cell_type": "markdown",
   "source": [
    "# **Mount Drive**"
   ],
   "metadata": {
    "id": "YZ8vfPYnVRLn"
   }
  },
  {
   "cell_type": "code",
   "source": [
    "from google.colab import drive\n",
    "drive.mount('/content/drive')"
   ],
   "metadata": {
    "colab": {
     "base_uri": "https://localhost:8080/"
    },
    "collapsed": true,
    "id": "GJCK7qeDOtiw",
    "outputId": "c984f91c-a4ad-4678-e462-f984cb4317c4"
   },
   "execution_count": null,
   "outputs": [
    {
     "output_type": "stream",
     "name": "stdout",
     "text": [
      "Mounted at /content/drive\n"
     ]
    }
   ]
  },
  {
   "cell_type": "markdown",
   "source": [
    "# **Clone the GitHub repository**"
   ],
   "metadata": {
    "id": "Cc637SjcaCNL"
   }
  },
  {
   "cell_type": "code",
   "source": "!git clone https://github.com/Arina100808/DetectOliveTreeDiseases.git",
   "metadata": {
    "colab": {
     "base_uri": "https://localhost:8080/"
    },
    "outputId": "267fcab3-de99-4adc-ea65-516566f9b87d",
    "collapsed": true,
    "id": "7a2DIomvaCNM"
   },
   "execution_count": null,
   "outputs": [
    {
     "output_type": "stream",
     "name": "stdout",
     "text": [
      "Cloning into 'OliveTreeDiseaseDetection'...\n",
      "remote: Enumerating objects: 4959, done.\u001B[K\n",
      "remote: Counting objects: 100% (840/840), done.\u001B[K\n",
      "remote: Compressing objects: 100% (750/750), done.\u001B[K\n",
      "remote: Total 4959 (delta 73), reused 825 (delta 67), pack-reused 4119 (from 1)\u001B[K\n",
      "Receiving objects: 100% (4959/4959), 285.08 MiB | 23.65 MiB/s, done.\n",
      "Resolving deltas: 100% (611/611), done.\n",
      "Updating files: 100% (3675/3675), done.\n"
     ]
    }
   ]
  },
  {
   "cell_type": "code",
   "source": [
    "!git pull"
   ],
   "metadata": {
    "colab": {
     "base_uri": "https://localhost:8080/"
    },
    "collapsed": true,
    "id": "lF9CgOKuzPLj",
    "outputId": "ad25121c-631a-48d4-e52f-45bedb4051d2"
   },
   "execution_count": null,
   "outputs": [
    {
     "output_type": "stream",
     "name": "stdout",
     "text": [
      "remote: Enumerating objects: 7, done.\u001B[K\n",
      "remote: Counting objects:  14% (1/7)\u001B[K\rremote: Counting objects:  28% (2/7)\u001B[K\rremote: Counting objects:  42% (3/7)\u001B[K\rremote: Counting objects:  57% (4/7)\u001B[K\rremote: Counting objects:  71% (5/7)\u001B[K\rremote: Counting objects:  85% (6/7)\u001B[K\rremote: Counting objects: 100% (7/7)\u001B[K\rremote: Counting objects: 100% (7/7), done.\u001B[K\n",
      "remote: Compressing objects:  50% (1/2)\u001B[K\rremote: Compressing objects: 100% (2/2)\u001B[K\rremote: Compressing objects: 100% (2/2), done.\u001B[K\n",
      "Unpacking objects:  25% (1/4)\rUnpacking objects:  50% (2/4)\rUnpacking objects:  75% (3/4)\rUnpacking objects: 100% (4/4)\rUnpacking objects: 100% (4/4), 1.08 KiB | 1.08 MiB/s, done.\n",
      "remote: Total 4 (delta 2), reused 4 (delta 2), pack-reused 0 (from 0)\u001B[K\n",
      "From https://github.com/Arina100808/OliveTreeDiseaseDetection\n",
      "   2c1fdb0..49f6dfe  main       -> origin/main\n",
      "Updating 2c1fdb0..49f6dfe\n",
      "Fast-forward\n",
      " config/ssl_config.yaml |  4 \u001B[31m----\u001B[m\n",
      " scripts/train_ssl.py   | 43 \u001B[32m+++++++++++++++++++++++++++++++++++++++++\u001B[m\u001B[31m--\u001B[m\n",
      " 2 files changed, 41 insertions(+), 6 deletions(-)\n",
      " delete mode 100644 config/ssl_config.yaml\n"
     ]
    }
   ]
  },
  {
   "cell_type": "code",
   "source": "%cd DetectOliveTreeDiseases",
   "metadata": {
    "colab": {
     "base_uri": "https://localhost:8080/"
    },
    "id": "1bF6PG6bskn5",
    "outputId": "f8f4aa99-12e8-4084-dba6-fb8a95cad619"
   },
   "execution_count": null,
   "outputs": [
    {
     "output_type": "stream",
     "name": "stdout",
     "text": [
      "/content/OliveTreeDiseaseDetection\n"
     ]
    }
   ]
  },
  {
   "cell_type": "code",
   "execution_count": null,
   "metadata": {
    "colab": {
     "base_uri": "https://localhost:8080/"
    },
    "collapsed": true,
    "id": "DqHkRk2dG5Wg",
    "outputId": "d4397379-58bd-42ba-cca8-16a310b151f4"
   },
   "outputs": [
    {
     "output_type": "stream",
     "name": "stdout",
     "text": [
      "\u001B[?25l   \u001B[90m━━━━━━━━━━━━━━━━━━━━━━━━━━━━━━━━━━━━━━━━\u001B[0m \u001B[32m0.0/212.0 kB\u001B[0m \u001B[31m?\u001B[0m eta \u001B[36m-:--:--\u001B[0m\r\u001B[2K   \u001B[90m━━━━━━━━━━━━━━━━━━━━━━━━━━━━━━━━━━━━━━━━\u001B[0m \u001B[32m212.0/212.0 kB\u001B[0m \u001B[31m12.2 MB/s\u001B[0m eta \u001B[36m0:00:00\u001B[0m\n",
      "\u001B[?25h\u001B[?25l   \u001B[90m━━━━━━━━━━━━━━━━━━━━━━━━━━━━━━━━━━━━━━━━\u001B[0m \u001B[32m0.0/855.8 kB\u001B[0m \u001B[31m?\u001B[0m eta \u001B[36m-:--:--\u001B[0m\r\u001B[2K   \u001B[90m━━━━━━━━━━━━━━━━━━━━━━━━━━━━━━━━━━━━━━━━\u001B[0m \u001B[32m855.8/855.8 kB\u001B[0m \u001B[31m37.2 MB/s\u001B[0m eta \u001B[36m0:00:00\u001B[0m\n",
      "\u001B[2K   \u001B[90m━━━━━━━━━━━━━━━━━━━━━━━━━━━━━━━━━━━━━━━━\u001B[0m \u001B[32m825.4/825.4 kB\u001B[0m \u001B[31m52.1 MB/s\u001B[0m eta \u001B[36m0:00:00\u001B[0m\n",
      "\u001B[2K   \u001B[90m━━━━━━━━━━━━━━━━━━━━━━━━━━━━━━━━━━━━━━━━\u001B[0m \u001B[32m906.5/906.5 MB\u001B[0m \u001B[31m1.8 MB/s\u001B[0m eta \u001B[36m0:00:00\u001B[0m\n",
      "\u001B[2K   \u001B[90m━━━━━━━━━━━━━━━━━━━━━━━━━━━━━━━━━━━━━━━━\u001B[0m \u001B[32m363.4/363.4 MB\u001B[0m \u001B[31m3.0 MB/s\u001B[0m eta \u001B[36m0:00:00\u001B[0m\n",
      "\u001B[2K   \u001B[90m━━━━━━━━━━━━━━━━━━━━━━━━━━━━━━━━━━━━━━━━\u001B[0m \u001B[32m13.8/13.8 MB\u001B[0m \u001B[31m126.0 MB/s\u001B[0m eta \u001B[36m0:00:00\u001B[0m\n",
      "\u001B[2K   \u001B[90m━━━━━━━━━━━━━━━━━━━━━━━━━━━━━━━━━━━━━━━━\u001B[0m \u001B[32m24.6/24.6 MB\u001B[0m \u001B[31m101.2 MB/s\u001B[0m eta \u001B[36m0:00:00\u001B[0m\n",
      "\u001B[2K   \u001B[90m━━━━━━━━━━━━━━━━━━━━━━━━━━━━━━━━━━━━━━━━\u001B[0m \u001B[32m883.7/883.7 kB\u001B[0m \u001B[31m59.6 MB/s\u001B[0m eta \u001B[36m0:00:00\u001B[0m\n",
      "\u001B[2K   \u001B[90m━━━━━━━━━━━━━━━━━━━━━━━━━━━━━━━━━━━━━━━━\u001B[0m \u001B[32m664.8/664.8 MB\u001B[0m \u001B[31m2.1 MB/s\u001B[0m eta \u001B[36m0:00:00\u001B[0m\n",
      "\u001B[2K   \u001B[90m━━━━━━━━━━━━━━━━━━━━━━━━━━━━━━━━━━━━━━━━\u001B[0m \u001B[32m211.5/211.5 MB\u001B[0m \u001B[31m4.9 MB/s\u001B[0m eta \u001B[36m0:00:00\u001B[0m\n",
      "\u001B[2K   \u001B[90m━━━━━━━━━━━━━━━━━━━━━━━━━━━━━━━━━━━━━━━━\u001B[0m \u001B[32m56.3/56.3 MB\u001B[0m \u001B[31m42.1 MB/s\u001B[0m eta \u001B[36m0:00:00\u001B[0m\n",
      "\u001B[2K   \u001B[90m━━━━━━━━━━━━━━━━━━━━━━━━━━━━━━━━━━━━━━━━\u001B[0m \u001B[32m127.9/127.9 MB\u001B[0m \u001B[31m19.4 MB/s\u001B[0m eta \u001B[36m0:00:00\u001B[0m\n",
      "\u001B[2K   \u001B[90m━━━━━━━━━━━━━━━━━━━━━━━━━━━━━━━━━━━━━━━━\u001B[0m \u001B[32m207.5/207.5 MB\u001B[0m \u001B[31m5.1 MB/s\u001B[0m eta \u001B[36m0:00:00\u001B[0m\n",
      "\u001B[2K   \u001B[90m━━━━━━━━━━━━━━━━━━━━━━━━━━━━━━━━━━━━━━━━\u001B[0m \u001B[32m21.1/21.1 MB\u001B[0m \u001B[31m109.6 MB/s\u001B[0m eta \u001B[36m0:00:00\u001B[0m\n",
      "\u001B[2K   \u001B[90m━━━━━━━━━━━━━━━━━━━━━━━━━━━━━━━━━━━━━━━━\u001B[0m \u001B[32m209.5/209.5 MB\u001B[0m \u001B[31m5.9 MB/s\u001B[0m eta \u001B[36m0:00:00\u001B[0m\n",
      "\u001B[2K   \u001B[90m━━━━━━━━━━━━━━━━━━━━━━━━━━━━━━━━━━━━━━━━\u001B[0m \u001B[32m7.2/7.2 MB\u001B[0m \u001B[31m129.7 MB/s\u001B[0m eta \u001B[36m0:00:00\u001B[0m\n",
      "\u001B[2K   \u001B[90m━━━━━━━━━━━━━━━━━━━━━━━━━━━━━━━━━━━━━━━━\u001B[0m \u001B[32m165.6/165.6 kB\u001B[0m \u001B[31m16.4 MB/s\u001B[0m eta \u001B[36m0:00:00\u001B[0m\n",
      "\u001B[2K   \u001B[90m━━━━━━━━━━━━━━━━━━━━━━━━━━━━━━━━━━━━━━━━\u001B[0m \u001B[32m154.5/154.5 kB\u001B[0m \u001B[31m15.6 MB/s\u001B[0m eta \u001B[36m0:00:00\u001B[0m\n",
      "\u001B[2K   \u001B[90m━━━━━━━━━━━━━━━━━━━━━━━━━━━━━━━━━━━━━━━━\u001B[0m \u001B[32m962.6/962.6 kB\u001B[0m \u001B[31m62.7 MB/s\u001B[0m eta \u001B[36m0:00:00\u001B[0m\n",
      "\u001B[?25h\u001B[31mERROR: pip's dependency resolver does not currently take into account all the packages that are installed. This behaviour is the source of the following dependency conflicts.\n",
      "torchaudio 2.6.0+cu124 requires torch==2.6.0, but you have torch 2.5.1 which is incompatible.\u001B[0m\u001B[31m\n",
      "\u001B[2K   \u001B[90m━━━━━━━━━━━━━━━━━━━━━━━━━━━━━━━━━━━━━━━━\u001B[0m \u001B[32m1.0/1.0 MB\u001B[0m \u001B[31m29.3 MB/s\u001B[0m eta \u001B[36m0:00:00\u001B[0m\n",
      "\u001B[2K   \u001B[90m━━━━━━━━━━━━━━━━━━━━━━━━━━━━━━━━━━━━━━━━\u001B[0m \u001B[32m86.7/86.7 kB\u001B[0m \u001B[31m5.5 MB/s\u001B[0m eta \u001B[36m0:00:00\u001B[0m\n",
      "\u001B[2K   \u001B[90m━━━━━━━━━━━━━━━━━━━━━━━━━━━━━━━━━━━━━━━━\u001B[0m \u001B[32m66.8/66.8 kB\u001B[0m \u001B[31m6.6 MB/s\u001B[0m eta \u001B[36m0:00:00\u001B[0m\n",
      "\u001B[2K   \u001B[90m━━━━━━━━━━━━━━━━━━━━━━━━━━━━━━━━━━━━━━━━\u001B[0m \u001B[32m49.9/49.9 MB\u001B[0m \u001B[31m49.4 MB/s\u001B[0m eta \u001B[36m0:00:00\u001B[0m\n",
      "\u001B[2K   \u001B[90m━━━━━━━━━━━━━━━━━━━━━━━━━━━━━━━━━━━━━━━━\u001B[0m \u001B[32m7.8/7.8 MB\u001B[0m \u001B[31m130.1 MB/s\u001B[0m eta \u001B[36m0:00:00\u001B[0m\n",
      "\u001B[?25h"
     ]
    }
   ],
   "source": [
    "!pip install lightly-train --quiet\n",
    "!pip install ultralytics --quiet\n",
    "!pip install roboflow --quiet"
   ]
  },
  {
   "cell_type": "code",
   "source": [
    "from roboflow import Roboflow\n",
    "import lightly_train\n",
    "import shutil\n",
    "import os"
   ],
   "metadata": {
    "colab": {
     "base_uri": "https://localhost:8080/"
    },
    "id": "q_vmhA_wrMRP",
    "outputId": "7f850ec2-af01-4078-f1df-acdd3acba84f"
   },
   "execution_count": null,
   "outputs": [
    {
     "output_type": "stream",
     "name": "stderr",
     "text": [
      "WARNING:py.warnings:The transform `ToTensor()` is deprecated and will be removed in a future release. Instead, please use `v2.Compose([v2.ToImage(), v2.ToDtype(torch.float32, scale=True)])`.Output is equivalent up to float precision.\n",
      "\n"
     ]
    }
   ]
  },
  {
   "cell_type": "markdown",
   "source": [
    "# **Download data**"
   ],
   "metadata": {
    "id": "-G2v3YQ2W4D7"
   }
  },
  {
   "metadata": {},
   "cell_type": "code",
   "outputs": [],
   "execution_count": null,
   "source": "!python scripts/download_data.py --project_name unlabeled-olive-trees --path data --data_format folder --api_key <API_KEY>"
  },
  {
   "metadata": {},
   "cell_type": "markdown",
   "source": "# **Train Distillation**"
  },
  {
   "metadata": {},
   "cell_type": "code",
   "outputs": [],
   "execution_count": null,
   "source": "!python scripts/train_ssl.py --out ../drive/MyDrive/VU\\ Amsterdam/ComputerVision/experiments/ssl_yolov8n_pt_dist --data data/unlabeled_olive_trees --epochs 100 --model ultralytics/yolov8n.pt # --checkpoint ../drive/MyDrive/VU\\ Amsterdam/ComputerVision/experiments/ssl_yolov8n_pt/checkpoints/last.ckpt"
  },
  {
   "cell_type": "markdown",
   "source": [
    "# **Train SimCLR**"
   ],
   "metadata": {
    "id": "gfERfjdXsdOi"
   }
  },
  {
   "cell_type": "code",
   "source": [
    "!python scripts/train_ssl.py --out ../drive/MyDrive/VU\\ Amsterdam/ComputerVision/experiments/sim/yolov8_ssl_sim_inf --data data/unlabeled_olive_trees --epochs 1000 --batch_size 256 --model ultralytics/yolov8n.pt --method simclr"
   ],
   "metadata": {
    "colab": {
     "base_uri": "https://localhost:8080/"
    },
    "outputId": "ff2a9d92-0094-4ade-d9a9-df34ee031523",
    "id": "VRIf0pdvsr5h"
   },
   "execution_count": null,
   "outputs": [
    {
     "output_type": "stream",
     "name": "stdout",
     "text": [
      "/usr/local/lib/python3.11/dist-packages/torchvision/transforms/v2/_deprecated.py:42: UserWarning: The transform `ToTensor()` is deprecated and will be removed in a future release. Instead, please use `v2.Compose([v2.ToImage(), v2.ToDtype(torch.float32, scale=True)])`.Output is equivalent up to float precision.\n",
      "  warnings.warn(\n",
      "Args: {\n",
      "    \"accelerator\": \"auto\",\n",
      "    \"batch_size\": 256,\n",
      "    \"callbacks\": null,\n",
      "    \"checkpoint\": null,\n",
      "    \"data\": \"data/unlabeled_olive_trees\",\n",
      "    \"devices\": \"auto\",\n",
      "    \"embed_dim\": null,\n",
      "    \"epochs\": 1000,\n",
      "    \"float32_matmul_precision\": \"auto\",\n",
      "    \"loader_args\": null,\n",
      "    \"loggers\": null,\n",
      "    \"method\": \"simclr\",\n",
      "    \"method_args\": null,\n",
      "    \"model\": \"ultralytics/yolov8n.pt\",\n",
      "    \"model_args\": null,\n",
      "    \"num_nodes\": 1,\n",
      "    \"num_workers\": \"auto\",\n",
      "    \"optim\": \"auto\",\n",
      "    \"optim_args\": null,\n",
      "    \"out\": \"../drive/MyDrive/VU Amsterdam/ComputerVision/experiments/sim/yolov8_ssl_sim_inf\",\n",
      "    \"overwrite\": false,\n",
      "    \"precision\": \"32-true\",\n",
      "    \"resume\": null,\n",
      "    \"resume_interrupted\": false,\n",
      "    \"seed\": 0,\n",
      "    \"strategy\": \"auto\",\n",
      "    \"trainer_args\": null,\n",
      "    \"transform_args\": null\n",
      "}\u001B[0m\n",
      "Using output directory '/content/drive/MyDrive/VU Amsterdam/ComputerVision/experiments/sim/yolov8_ssl_sim_inf'.\u001B[0m\n",
      "Seed set to 0\n",
      "Creating new Ultralytics Settings v0.0.6 file ✅ \n",
      "View Ultralytics Settings with 'yolo settings' or at '/root/.config/Ultralytics/settings.json'\n",
      "Update Settings with 'yolo settings key=value', i.e. 'yolo settings runs_dir=path/to/dir'. For help see https://docs.ultralytics.com/quickstart/#ultralytics-settings.\n",
      "Downloading https://github.com/ultralytics/assets/releases/download/v8.3.0/yolov8n.pt to 'yolov8n.pt'...\n",
      "100% 6.25M/6.25M [00:00<00:00, 111MB/s]\n",
      "Enabling gradients for parameter 'model.model.0.conv.weight'\u001B[0m\n",
      "Enabling gradients for parameter 'model.model.0.bn.weight'\u001B[0m\n",
      "Enabling gradients for parameter 'model.model.0.bn.bias'\u001B[0m\n",
      "Enabling gradients for parameter 'model.model.1.conv.weight'\u001B[0m\n",
      "Enabling gradients for parameter 'model.model.1.bn.weight'\u001B[0m\n",
      "Enabling gradients for parameter 'model.model.1.bn.bias'\u001B[0m\n",
      "Enabling gradients for parameter 'model.model.2.cv1.conv.weight'\u001B[0m\n",
      "Enabling gradients for parameter 'model.model.2.cv1.bn.weight'\u001B[0m\n",
      "Enabling gradients for parameter 'model.model.2.cv1.bn.bias'\u001B[0m\n",
      "Enabling gradients for parameter 'model.model.2.cv2.conv.weight'\u001B[0m\n",
      "Enabling gradients for parameter 'model.model.2.cv2.bn.weight'\u001B[0m\n",
      "Enabling gradients for parameter 'model.model.2.cv2.bn.bias'\u001B[0m\n",
      "Enabling gradients for parameter 'model.model.2.m.0.cv1.conv.weight'\u001B[0m\n",
      "Enabling gradients for parameter 'model.model.2.m.0.cv1.bn.weight'\u001B[0m\n",
      "Enabling gradients for parameter 'model.model.2.m.0.cv1.bn.bias'\u001B[0m\n",
      "Enabling gradients for parameter 'model.model.2.m.0.cv2.conv.weight'\u001B[0m\n",
      "Enabling gradients for parameter 'model.model.2.m.0.cv2.bn.weight'\u001B[0m\n",
      "Enabling gradients for parameter 'model.model.2.m.0.cv2.bn.bias'\u001B[0m\n",
      "Enabling gradients for parameter 'model.model.3.conv.weight'\u001B[0m\n",
      "Enabling gradients for parameter 'model.model.3.bn.weight'\u001B[0m\n",
      "Enabling gradients for parameter 'model.model.3.bn.bias'\u001B[0m\n",
      "Enabling gradients for parameter 'model.model.4.cv1.conv.weight'\u001B[0m\n",
      "Enabling gradients for parameter 'model.model.4.cv1.bn.weight'\u001B[0m\n",
      "Enabling gradients for parameter 'model.model.4.cv1.bn.bias'\u001B[0m\n",
      "Enabling gradients for parameter 'model.model.4.cv2.conv.weight'\u001B[0m\n",
      "Enabling gradients for parameter 'model.model.4.cv2.bn.weight'\u001B[0m\n",
      "Enabling gradients for parameter 'model.model.4.cv2.bn.bias'\u001B[0m\n",
      "Enabling gradients for parameter 'model.model.4.m.0.cv1.conv.weight'\u001B[0m\n",
      "Enabling gradients for parameter 'model.model.4.m.0.cv1.bn.weight'\u001B[0m\n",
      "Enabling gradients for parameter 'model.model.4.m.0.cv1.bn.bias'\u001B[0m\n",
      "Enabling gradients for parameter 'model.model.4.m.0.cv2.conv.weight'\u001B[0m\n",
      "Enabling gradients for parameter 'model.model.4.m.0.cv2.bn.weight'\u001B[0m\n",
      "Enabling gradients for parameter 'model.model.4.m.0.cv2.bn.bias'\u001B[0m\n",
      "Enabling gradients for parameter 'model.model.4.m.1.cv1.conv.weight'\u001B[0m\n",
      "Enabling gradients for parameter 'model.model.4.m.1.cv1.bn.weight'\u001B[0m\n",
      "Enabling gradients for parameter 'model.model.4.m.1.cv1.bn.bias'\u001B[0m\n",
      "Enabling gradients for parameter 'model.model.4.m.1.cv2.conv.weight'\u001B[0m\n",
      "Enabling gradients for parameter 'model.model.4.m.1.cv2.bn.weight'\u001B[0m\n",
      "Enabling gradients for parameter 'model.model.4.m.1.cv2.bn.bias'\u001B[0m\n",
      "Enabling gradients for parameter 'model.model.5.conv.weight'\u001B[0m\n",
      "Enabling gradients for parameter 'model.model.5.bn.weight'\u001B[0m\n",
      "Enabling gradients for parameter 'model.model.5.bn.bias'\u001B[0m\n",
      "Enabling gradients for parameter 'model.model.6.cv1.conv.weight'\u001B[0m\n",
      "Enabling gradients for parameter 'model.model.6.cv1.bn.weight'\u001B[0m\n",
      "Enabling gradients for parameter 'model.model.6.cv1.bn.bias'\u001B[0m\n",
      "Enabling gradients for parameter 'model.model.6.cv2.conv.weight'\u001B[0m\n",
      "Enabling gradients for parameter 'model.model.6.cv2.bn.weight'\u001B[0m\n",
      "Enabling gradients for parameter 'model.model.6.cv2.bn.bias'\u001B[0m\n",
      "Enabling gradients for parameter 'model.model.6.m.0.cv1.conv.weight'\u001B[0m\n",
      "Enabling gradients for parameter 'model.model.6.m.0.cv1.bn.weight'\u001B[0m\n",
      "Enabling gradients for parameter 'model.model.6.m.0.cv1.bn.bias'\u001B[0m\n",
      "Enabling gradients for parameter 'model.model.6.m.0.cv2.conv.weight'\u001B[0m\n",
      "Enabling gradients for parameter 'model.model.6.m.0.cv2.bn.weight'\u001B[0m\n",
      "Enabling gradients for parameter 'model.model.6.m.0.cv2.bn.bias'\u001B[0m\n",
      "Enabling gradients for parameter 'model.model.6.m.1.cv1.conv.weight'\u001B[0m\n",
      "Enabling gradients for parameter 'model.model.6.m.1.cv1.bn.weight'\u001B[0m\n",
      "Enabling gradients for parameter 'model.model.6.m.1.cv1.bn.bias'\u001B[0m\n",
      "Enabling gradients for parameter 'model.model.6.m.1.cv2.conv.weight'\u001B[0m\n",
      "Enabling gradients for parameter 'model.model.6.m.1.cv2.bn.weight'\u001B[0m\n",
      "Enabling gradients for parameter 'model.model.6.m.1.cv2.bn.bias'\u001B[0m\n",
      "Enabling gradients for parameter 'model.model.7.conv.weight'\u001B[0m\n",
      "Enabling gradients for parameter 'model.model.7.bn.weight'\u001B[0m\n",
      "Enabling gradients for parameter 'model.model.7.bn.bias'\u001B[0m\n",
      "Enabling gradients for parameter 'model.model.8.cv1.conv.weight'\u001B[0m\n",
      "Enabling gradients for parameter 'model.model.8.cv1.bn.weight'\u001B[0m\n",
      "Enabling gradients for parameter 'model.model.8.cv1.bn.bias'\u001B[0m\n",
      "Enabling gradients for parameter 'model.model.8.cv2.conv.weight'\u001B[0m\n",
      "Enabling gradients for parameter 'model.model.8.cv2.bn.weight'\u001B[0m\n",
      "Enabling gradients for parameter 'model.model.8.cv2.bn.bias'\u001B[0m\n",
      "Enabling gradients for parameter 'model.model.8.m.0.cv1.conv.weight'\u001B[0m\n",
      "Enabling gradients for parameter 'model.model.8.m.0.cv1.bn.weight'\u001B[0m\n",
      "Enabling gradients for parameter 'model.model.8.m.0.cv1.bn.bias'\u001B[0m\n",
      "Enabling gradients for parameter 'model.model.8.m.0.cv2.conv.weight'\u001B[0m\n",
      "Enabling gradients for parameter 'model.model.8.m.0.cv2.bn.weight'\u001B[0m\n",
      "Enabling gradients for parameter 'model.model.8.m.0.cv2.bn.bias'\u001B[0m\n",
      "Enabling gradients for parameter 'model.model.9.cv1.conv.weight'\u001B[0m\n",
      "Enabling gradients for parameter 'model.model.9.cv1.bn.weight'\u001B[0m\n",
      "Enabling gradients for parameter 'model.model.9.cv1.bn.bias'\u001B[0m\n",
      "Enabling gradients for parameter 'model.model.9.cv2.conv.weight'\u001B[0m\n",
      "Enabling gradients for parameter 'model.model.9.cv2.bn.weight'\u001B[0m\n",
      "Enabling gradients for parameter 'model.model.9.cv2.bn.bias'\u001B[0m\n",
      "Enabling gradients for parameter 'model.model.12.cv1.conv.weight'\u001B[0m\n",
      "Enabling gradients for parameter 'model.model.12.cv1.bn.weight'\u001B[0m\n",
      "Enabling gradients for parameter 'model.model.12.cv1.bn.bias'\u001B[0m\n",
      "Enabling gradients for parameter 'model.model.12.cv2.conv.weight'\u001B[0m\n",
      "Enabling gradients for parameter 'model.model.12.cv2.bn.weight'\u001B[0m\n",
      "Enabling gradients for parameter 'model.model.12.cv2.bn.bias'\u001B[0m\n",
      "Enabling gradients for parameter 'model.model.12.m.0.cv1.conv.weight'\u001B[0m\n",
      "Enabling gradients for parameter 'model.model.12.m.0.cv1.bn.weight'\u001B[0m\n",
      "Enabling gradients for parameter 'model.model.12.m.0.cv1.bn.bias'\u001B[0m\n",
      "Enabling gradients for parameter 'model.model.12.m.0.cv2.conv.weight'\u001B[0m\n",
      "Enabling gradients for parameter 'model.model.12.m.0.cv2.bn.weight'\u001B[0m\n",
      "Enabling gradients for parameter 'model.model.12.m.0.cv2.bn.bias'\u001B[0m\n",
      "Enabling gradients for parameter 'model.model.15.cv1.conv.weight'\u001B[0m\n",
      "Enabling gradients for parameter 'model.model.15.cv1.bn.weight'\u001B[0m\n",
      "Enabling gradients for parameter 'model.model.15.cv1.bn.bias'\u001B[0m\n",
      "Enabling gradients for parameter 'model.model.15.cv2.conv.weight'\u001B[0m\n",
      "Enabling gradients for parameter 'model.model.15.cv2.bn.weight'\u001B[0m\n",
      "Enabling gradients for parameter 'model.model.15.cv2.bn.bias'\u001B[0m\n",
      "Enabling gradients for parameter 'model.model.15.m.0.cv1.conv.weight'\u001B[0m\n",
      "Enabling gradients for parameter 'model.model.15.m.0.cv1.bn.weight'\u001B[0m\n",
      "Enabling gradients for parameter 'model.model.15.m.0.cv1.bn.bias'\u001B[0m\n",
      "Enabling gradients for parameter 'model.model.15.m.0.cv2.conv.weight'\u001B[0m\n",
      "Enabling gradients for parameter 'model.model.15.m.0.cv2.bn.weight'\u001B[0m\n",
      "Enabling gradients for parameter 'model.model.15.m.0.cv2.bn.bias'\u001B[0m\n",
      "Enabling gradients for parameter 'model.model.16.conv.weight'\u001B[0m\n",
      "Enabling gradients for parameter 'model.model.16.bn.weight'\u001B[0m\n",
      "Enabling gradients for parameter 'model.model.16.bn.bias'\u001B[0m\n",
      "Enabling gradients for parameter 'model.model.18.cv1.conv.weight'\u001B[0m\n",
      "Enabling gradients for parameter 'model.model.18.cv1.bn.weight'\u001B[0m\n",
      "Enabling gradients for parameter 'model.model.18.cv1.bn.bias'\u001B[0m\n",
      "Enabling gradients for parameter 'model.model.18.cv2.conv.weight'\u001B[0m\n",
      "Enabling gradients for parameter 'model.model.18.cv2.bn.weight'\u001B[0m\n",
      "Enabling gradients for parameter 'model.model.18.cv2.bn.bias'\u001B[0m\n",
      "Enabling gradients for parameter 'model.model.18.m.0.cv1.conv.weight'\u001B[0m\n",
      "Enabling gradients for parameter 'model.model.18.m.0.cv1.bn.weight'\u001B[0m\n",
      "Enabling gradients for parameter 'model.model.18.m.0.cv1.bn.bias'\u001B[0m\n",
      "Enabling gradients for parameter 'model.model.18.m.0.cv2.conv.weight'\u001B[0m\n",
      "Enabling gradients for parameter 'model.model.18.m.0.cv2.bn.weight'\u001B[0m\n",
      "Enabling gradients for parameter 'model.model.18.m.0.cv2.bn.bias'\u001B[0m\n",
      "Enabling gradients for parameter 'model.model.19.conv.weight'\u001B[0m\n",
      "Enabling gradients for parameter 'model.model.19.bn.weight'\u001B[0m\n",
      "Enabling gradients for parameter 'model.model.19.bn.bias'\u001B[0m\n",
      "Enabling gradients for parameter 'model.model.21.cv1.conv.weight'\u001B[0m\n",
      "Enabling gradients for parameter 'model.model.21.cv1.bn.weight'\u001B[0m\n",
      "Enabling gradients for parameter 'model.model.21.cv1.bn.bias'\u001B[0m\n",
      "Enabling gradients for parameter 'model.model.21.cv2.conv.weight'\u001B[0m\n",
      "Enabling gradients for parameter 'model.model.21.cv2.bn.weight'\u001B[0m\n",
      "Enabling gradients for parameter 'model.model.21.cv2.bn.bias'\u001B[0m\n",
      "Enabling gradients for parameter 'model.model.21.m.0.cv1.conv.weight'\u001B[0m\n",
      "Enabling gradients for parameter 'model.model.21.m.0.cv1.bn.weight'\u001B[0m\n",
      "Enabling gradients for parameter 'model.model.21.m.0.cv1.bn.bias'\u001B[0m\n",
      "Enabling gradients for parameter 'model.model.21.m.0.cv2.conv.weight'\u001B[0m\n",
      "Enabling gradients for parameter 'model.model.21.m.0.cv2.bn.weight'\u001B[0m\n",
      "Enabling gradients for parameter 'model.model.21.m.0.cv2.bn.bias'\u001B[0m\n",
      "Enabling gradients for parameter 'model.model.22.cv2.0.0.conv.weight'\u001B[0m\n",
      "Enabling gradients for parameter 'model.model.22.cv2.0.0.bn.weight'\u001B[0m\n",
      "Enabling gradients for parameter 'model.model.22.cv2.0.0.bn.bias'\u001B[0m\n",
      "Enabling gradients for parameter 'model.model.22.cv2.0.1.conv.weight'\u001B[0m\n",
      "Enabling gradients for parameter 'model.model.22.cv2.0.1.bn.weight'\u001B[0m\n",
      "Enabling gradients for parameter 'model.model.22.cv2.0.1.bn.bias'\u001B[0m\n",
      "Enabling gradients for parameter 'model.model.22.cv2.0.2.weight'\u001B[0m\n",
      "Enabling gradients for parameter 'model.model.22.cv2.0.2.bias'\u001B[0m\n",
      "Enabling gradients for parameter 'model.model.22.cv2.1.0.conv.weight'\u001B[0m\n",
      "Enabling gradients for parameter 'model.model.22.cv2.1.0.bn.weight'\u001B[0m\n",
      "Enabling gradients for parameter 'model.model.22.cv2.1.0.bn.bias'\u001B[0m\n",
      "Enabling gradients for parameter 'model.model.22.cv2.1.1.conv.weight'\u001B[0m\n",
      "Enabling gradients for parameter 'model.model.22.cv2.1.1.bn.weight'\u001B[0m\n",
      "Enabling gradients for parameter 'model.model.22.cv2.1.1.bn.bias'\u001B[0m\n",
      "Enabling gradients for parameter 'model.model.22.cv2.1.2.weight'\u001B[0m\n",
      "Enabling gradients for parameter 'model.model.22.cv2.1.2.bias'\u001B[0m\n",
      "Enabling gradients for parameter 'model.model.22.cv2.2.0.conv.weight'\u001B[0m\n",
      "Enabling gradients for parameter 'model.model.22.cv2.2.0.bn.weight'\u001B[0m\n",
      "Enabling gradients for parameter 'model.model.22.cv2.2.0.bn.bias'\u001B[0m\n",
      "Enabling gradients for parameter 'model.model.22.cv2.2.1.conv.weight'\u001B[0m\n",
      "Enabling gradients for parameter 'model.model.22.cv2.2.1.bn.weight'\u001B[0m\n",
      "Enabling gradients for parameter 'model.model.22.cv2.2.1.bn.bias'\u001B[0m\n",
      "Enabling gradients for parameter 'model.model.22.cv2.2.2.weight'\u001B[0m\n",
      "Enabling gradients for parameter 'model.model.22.cv2.2.2.bias'\u001B[0m\n",
      "Enabling gradients for parameter 'model.model.22.cv3.0.0.conv.weight'\u001B[0m\n",
      "Enabling gradients for parameter 'model.model.22.cv3.0.0.bn.weight'\u001B[0m\n",
      "Enabling gradients for parameter 'model.model.22.cv3.0.0.bn.bias'\u001B[0m\n",
      "Enabling gradients for parameter 'model.model.22.cv3.0.1.conv.weight'\u001B[0m\n",
      "Enabling gradients for parameter 'model.model.22.cv3.0.1.bn.weight'\u001B[0m\n",
      "Enabling gradients for parameter 'model.model.22.cv3.0.1.bn.bias'\u001B[0m\n",
      "Enabling gradients for parameter 'model.model.22.cv3.0.2.weight'\u001B[0m\n",
      "Enabling gradients for parameter 'model.model.22.cv3.0.2.bias'\u001B[0m\n",
      "Enabling gradients for parameter 'model.model.22.cv3.1.0.conv.weight'\u001B[0m\n",
      "Enabling gradients for parameter 'model.model.22.cv3.1.0.bn.weight'\u001B[0m\n",
      "Enabling gradients for parameter 'model.model.22.cv3.1.0.bn.bias'\u001B[0m\n",
      "Enabling gradients for parameter 'model.model.22.cv3.1.1.conv.weight'\u001B[0m\n",
      "Enabling gradients for parameter 'model.model.22.cv3.1.1.bn.weight'\u001B[0m\n",
      "Enabling gradients for parameter 'model.model.22.cv3.1.1.bn.bias'\u001B[0m\n",
      "Enabling gradients for parameter 'model.model.22.cv3.1.2.weight'\u001B[0m\n",
      "Enabling gradients for parameter 'model.model.22.cv3.1.2.bias'\u001B[0m\n",
      "Enabling gradients for parameter 'model.model.22.cv3.2.0.conv.weight'\u001B[0m\n",
      "Enabling gradients for parameter 'model.model.22.cv3.2.0.bn.weight'\u001B[0m\n",
      "Enabling gradients for parameter 'model.model.22.cv3.2.0.bn.bias'\u001B[0m\n",
      "Enabling gradients for parameter 'model.model.22.cv3.2.1.conv.weight'\u001B[0m\n",
      "Enabling gradients for parameter 'model.model.22.cv3.2.1.bn.weight'\u001B[0m\n",
      "Enabling gradients for parameter 'model.model.22.cv3.2.1.bn.bias'\u001B[0m\n",
      "Enabling gradients for parameter 'model.model.22.cv3.2.2.weight'\u001B[0m\n",
      "Enabling gradients for parameter 'model.model.22.cv3.2.2.bias'\u001B[0m\n",
      "Disabling gradients for parameter 'model.model.22.dfl.conv.weight'\u001B[0m\n",
      "GPU available: True (cuda), used: True\u001B[0m\n",
      "TPU available: False, using: 0 TPU cores\u001B[0m\n",
      "HPU available: False, using: 0 HPUs\u001B[0m\n",
      "Resolved configuration:\n",
      "{\n",
      "    \"accelerator\": \"CUDAAccelerator\",\n",
      "    \"batch_size\": 256,\n",
      "    \"callbacks\": {\n",
      "        \"device_stats_monitor\": {},\n",
      "        \"early_stopping\": {\n",
      "            \"check_finite\": true,\n",
      "            \"monitor\": \"train_loss\",\n",
      "            \"patience\": 1000000000000\n",
      "        },\n",
      "        \"learning_rate_monitor\": {},\n",
      "        \"model_checkpoint\": {\n",
      "            \"enable_version_counter\": false,\n",
      "            \"every_n_epochs\": null,\n",
      "            \"save_last\": true,\n",
      "            \"save_top_k\": 1\n",
      "        },\n",
      "        \"model_export\": {\n",
      "            \"every_n_epochs\": 1\n",
      "        }\n",
      "    },\n",
      "    \"checkpoint\": null,\n",
      "    \"data\": \"data/unlabeled_olive_trees\",\n",
      "    \"devices\": 1,\n",
      "    \"embed_dim\": null,\n",
      "    \"epochs\": 1000,\n",
      "    \"float32_matmul_precision\": \"highest\",\n",
      "    \"loader_args\": null,\n",
      "    \"loggers\": {\n",
      "        \"jsonl\": {\n",
      "            \"flush_logs_every_n_steps\": 100\n",
      "        },\n",
      "        \"mlflow\": null,\n",
      "        \"tensorboard\": {\n",
      "            \"default_hp_metric\": true,\n",
      "            \"log_graph\": false,\n",
      "            \"name\": \"\",\n",
      "            \"prefix\": \"\",\n",
      "            \"sub_dir\": null,\n",
      "            \"version\": \"\"\n",
      "        },\n",
      "        \"wandb\": null\n",
      "    },\n",
      "    \"method\": \"simclr\",\n",
      "    \"method_args\": {\n",
      "        \"batch_norm\": true,\n",
      "        \"hidden_dim\": 2048,\n",
      "        \"lr_scale_method\": \"linear\",\n",
      "        \"num_layers\": 2,\n",
      "        \"output_dim\": 128,\n",
      "        \"reference_batch_size\": 256,\n",
      "        \"temperature\": 0.1\n",
      "    },\n",
      "    \"model\": \"ultralytics/yolov8n.pt\",\n",
      "    \"model_args\": null,\n",
      "    \"num_nodes\": 1,\n",
      "    \"num_workers\": 8,\n",
      "    \"optim\": \"sgd\",\n",
      "    \"optim_args\": {\n",
      "        \"lr\": 0.3,\n",
      "        \"momentum\": 0.9,\n",
      "        \"weight_decay\": 0.0001\n",
      "    },\n",
      "    \"out\": \"../drive/MyDrive/VU Amsterdam/ComputerVision/experiments/sim/yolov8_ssl_sim_inf\",\n",
      "    \"overwrite\": false,\n",
      "    \"precision\": \"32-true\",\n",
      "    \"resume\": null,\n",
      "    \"resume_interrupted\": false,\n",
      "    \"seed\": 0,\n",
      "    \"strategy\": \"SingleDeviceStrategy\",\n",
      "    \"trainer_args\": null,\n",
      "    \"transform_args\": {\n",
      "        \"channel_drop\": null,\n",
      "        \"color_jitter\": {\n",
      "            \"brightness\": 0.8,\n",
      "            \"contrast\": 0.8,\n",
      "            \"hue\": 0.2,\n",
      "            \"prob\": 0.8,\n",
      "            \"saturation\": 0.8,\n",
      "            \"strength\": 1.0\n",
      "        },\n",
      "        \"gaussian_blur\": {\n",
      "            \"blur_limit\": 0,\n",
      "            \"prob\": 0.5,\n",
      "            \"sigmas\": [\n",
      "                0.1,\n",
      "                2.0\n",
      "            ]\n",
      "        },\n",
      "        \"image_size\": [\n",
      "            224,\n",
      "            224\n",
      "        ],\n",
      "        \"normalize\": {\n",
      "            \"mean\": [\n",
      "                0.485,\n",
      "                0.456,\n",
      "                0.406\n",
      "            ],\n",
      "            \"std\": [\n",
      "                0.229,\n",
      "                0.224,\n",
      "                0.225\n",
      "            ]\n",
      "        },\n",
      "        \"random_flip\": {\n",
      "            \"horizontal_prob\": 0.5,\n",
      "            \"vertical_prob\": 0.0\n",
      "        },\n",
      "        \"random_gray_scale\": 0.2,\n",
      "        \"random_resize\": {\n",
      "            \"max_scale\": 1.0,\n",
      "            \"min_scale\": 0.08\n",
      "        },\n",
      "        \"random_rotation\": null,\n",
      "        \"solarize\": null\n",
      "    }\n",
      "}\n",
      "\u001B[0m\n",
      "WARNING: All log messages before absl::InitializeLog() is called are written to STDERR\n",
      "E0000 00:00:1750784286.191123    3332 cuda_dnn.cc:8310] Unable to register cuDNN factory: Attempting to register factory for plugin cuDNN when one has already been registered\n",
      "E0000 00:00:1750784286.197545    3332 cuda_blas.cc:1418] Unable to register cuBLAS factory: Attempting to register factory for plugin cuBLAS when one has already been registered\n",
      "LOCAL_RANK: 0 - CUDA_VISIBLE_DEVICES: [0]\u001B[0m\n",
      "Loading `train_dataloader` to estimate number of stepping batches.\u001B[0m\n",
      "\n",
      "  | Name            | Type                 | Params | Mode \n",
      "-----------------------------------------------------------------\n",
      "0 | embedding_model | EmbeddingModel       | 1.1 M  | train\n",
      "1 | flatten         | Flatten              | 0      | train\n",
      "2 | projection_head | SimCLRProjectionHead | 790 K  | train\n",
      "3 | criterion       | NTXentLoss           | 0      | train\n",
      "-----------------------------------------------------------------\n",
      "1.9 M     Trainable params\n",
      "0         Non-trainable params\n",
      "1.9 M     Total params\n",
      "7.595     Total estimated model params size (MB)\n",
      "106       Modules in train mode\n",
      "0         Modules in eval mode\u001B[0m\n",
      "Epoch 282:   0% 0/12 [00:00<?, ?it/s, train_loss=2.330, data_wait=90.7%]"
     ]
    }
   ]
  },
  {
   "cell_type": "markdown",
   "source": [
    "# **Train DINO**"
   ],
   "metadata": {
    "id": "Fh2nVSyScA10"
   }
  },
  {
   "cell_type": "code",
   "source": [
    "!python scripts/train_ssl.py --out ../drive/MyDrive/VU\\ Amsterdam/ComputerVision/experiments/dino/yolov8_ssl_dino --data data/unlabeled_olive_trees --epochs 1000 --batch_size 256 --model ultralytics/yolov8n.pt --method dino"
   ],
   "metadata": {
    "collapsed": true,
    "id": "9cfbz0_ZcA11"
   },
   "execution_count": null,
   "outputs": []
  }
 ]
}
